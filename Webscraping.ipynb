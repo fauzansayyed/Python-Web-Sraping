{
 "cells": [
  {
   "cell_type": "markdown",
   "id": "4beb715d",
   "metadata": {},
   "source": [
    "# XYZ website for Web Scraping"
   ]
  },
  {
   "cell_type": "code",
   "execution_count": 1,
   "id": "d5c70a7e",
   "metadata": {},
   "outputs": [],
   "source": [
    "from bs4 import BeautifulSoup    # Importing Beautiful Soup\n",
    "import csv                       # Importing CSV\n",
    "import requests                  # Importing requests  -- \n",
    "# The import requests statement in Python allows you to make HTTP requests and interact with web servers, making it easier to fetch data from URLs and APIs.\n",
    "import pandas as pd              # Pandas for data manipulation"
   ]
  },
  {
   "cell_type": "code",
   "execution_count": 8,
   "id": "69b1b991",
   "metadata": {},
   "outputs": [],
   "source": [
    "def get_url(search_term):\n",
    "    '''Generate a url from search term'''\n",
    "    template='https://www.xxyz.com/s?k={}'\n",
    "    search_term=search_term.replace(' ','+')\n",
    "    \n",
    "    # add term query to url\n",
    "    url = template.format(search_term)\n",
    "    \n",
    "    # add page query placeholder\n",
    "    url+='&page{}'\n",
    "    return template.format(search_term)\n",
    "\n",
    "def extract_record(item):\n",
    "    '''Extract and return data from a single record'''\n",
    "    \n",
    "    # description and url\n",
    "    atag=item.h2.a\n",
    "    description=atag.text.strip()\n",
    "    url='http://www.xyz.com' + atag.get('href')\n",
    "    \n",
    "    try:\n",
    "        # price\n",
    "        price_parent=item.find('span','a-price a-text-price a-size-base')\n",
    "        price=price_parent.find('span','a-offscreen').text\n",
    "    except AttributeError:\n",
    "        return\n",
    "    \n",
    "    try:\n",
    "        # rating\n",
    "        rating=item.i.text\n",
    "    except AttributeError:\n",
    "        rating = \"\"\n",
    "    \n",
    "    result =(description,price,rating)\n",
    "    \n",
    "    return result\n",
    "\n",
    "def main(search_term):\n",
    "    '''run main program routine'''\n",
    "    # startup the webdriver\n",
    "    \n",
    "    driver = webdriver.Chrome()\n",
    "    \n",
    "    records=[]\n",
    "    url=get_url(search_term)\n",
    "    \n",
    "    for page in range(1,5):\n",
    "        driver.get(url.format(page))\n",
    "        soup=BeautifulSoup(driver.page_source,'html.parser')\n",
    "        results=soup.find_all('div',{'data-component-type':'s-search-result'})\n",
    "        \n",
    "        for item in results:\n",
    "            record=extract_record(item)\n",
    "            if record:\n",
    "                records.append(record)\n",
    "        \n",
    "    driver.close()\n",
    "    \n",
    "    # save data to csv file\n",
    "    with open('results.csv','w',newline='',encoding='utf-8') as f:\n",
    "        writer =csv.writer(f)\n",
    "        writer.writerow(['Description','price','rating','url'])\n",
    "        writer.writerows(records)\n"
   ]
  },
  {
   "cell_type": "code",
   "execution_count": 9,
   "id": "1b62e0f7",
   "metadata": {},
   "outputs": [],
   "source": [
    "main('Product Name')"
   ]
  },
  {
   "cell_type": "markdown",
   "id": "9dc11074",
   "metadata": {},
   "source": [
    "# Sample OUTPUT:\n",
    "    ('LG 34WN650-W UltraWide Monitor 34\" 21:9 FHD (2560 x 1080) IPS Display, VESA DisplayHDR 400, AMD FreeSync, 3-Side Virtually Borderless Design - Silver',\n",
    " '$349.99',\n",
    " '4.6 out of 5 stars',\n",
    " 'http://www.xyz.com/sspa/click?ie=UTF8&spc=MTo4NjQzNjgwMTg1MDU5Nzk4OjE2OTEwNjIyMDE6c3BfYXRmOjIwMDA2NTI3NTYwNTQ5ODo6MDo6&url=%2FLG-34WN650-W-34-Inch-UltraWide-DisplayHDR%2Fdp%2FB087JB656Q%2Fref%3Dsr_1_1_sspa%3Fkeywords%3Dultrawide%2Bmonitor%26qid%3D1691062201%26sr%3D8-1-spons%26sp_csd%3Dd2lkZ2V0TmFtZT1zcF9hdGY%26psc%3D1')"
   ]
  }
 ],
 "metadata": {
  "kernelspec": {
   "display_name": "Python 3 (ipykernel)",
   "language": "python",
   "name": "python3"
  },
  "language_info": {
   "codemirror_mode": {
    "name": "ipython",
    "version": 3
   },
   "file_extension": ".py",
   "mimetype": "text/x-python",
   "name": "python",
   "nbconvert_exporter": "python",
   "pygments_lexer": "ipython3",
   "version": "3.9.12"
  }
 },
 "nbformat": 4,
 "nbformat_minor": 5
}
